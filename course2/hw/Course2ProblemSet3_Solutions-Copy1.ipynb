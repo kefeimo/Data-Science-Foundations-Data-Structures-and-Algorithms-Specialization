{
 "cells": [
  {
   "cell_type": "markdown",
   "id": "605c34ff",
   "metadata": {
    "deletable": false,
    "editable": false,
    "nbgrader": {
     "cell_type": "markdown",
     "checksum": "e7bbd820b4856a2b6dd86296ef8c8c24",
     "grade": false,
     "grade_id": "cell-8077ad7496758632",
     "locked": true,
     "schema_version": 3,
     "solution": false,
     "task": false
    }
   },
   "source": [
    "## Problem 1\n",
    "\n",
    "We will first complete an implemention of  a union-find data structure with rank compression."
   ]
  },
  {
   "cell_type": "code",
   "execution_count": 1,
   "id": "72fab61e",
   "metadata": {
    "deletable": false,
    "nbgrader": {
     "cell_type": "code",
     "checksum": "5f8e9465f23e9736faa5bd67e99d60c8",
     "grade": false,
     "grade_id": "cell-02d5c5cdd8ecba78",
     "locked": false,
     "schema_version": 3,
     "solution": true,
     "task": false
    }
   },
   "outputs": [],
   "source": [
    "class DisjointForests:\n",
    "    def __init__(self, n):\n",
    "        assert n >= 1, ' Empty disjoint forest is disallowed'\n",
    "        self.n = n\n",
    "        self.parents = [None]*n\n",
    "        self.rank = [None]*n\n",
    "        \n",
    "    # Function: dictionary_of_sets\n",
    "    # Convert the disjoint forest structure into a dictionary d\n",
    "    # wherein d has an entry for each representative i\n",
    "    # d[i] maps to each elements which belongs to the tree corresponding to i\n",
    "    # in the disjoint forest.\n",
    "    def dictionary_of_sets(self):\n",
    "        d = {}\n",
    "        for i in range(self.n):\n",
    "            if self.is_representative(i):\n",
    "                d[i] = set([i])\n",
    "        for j in range(self.n):\n",
    "            if self.parents[j] != None:\n",
    "                root = self.find(j)\n",
    "                assert root in d\n",
    "                d[root].add(j)\n",
    "        return d\n",
    "    \n",
    "    def make_set(self, j):\n",
    "        assert 0 <= j < self.n\n",
    "        assert self.parents[j] == None, 'You are calling make_set on an element multiple times -- not allowed.'\n",
    "        self.parents[j] = j\n",
    "        self.rank[j] = 1\n",
    "        \n",
    "    def is_representative(self, j):\n",
    "        return self.parents[j] == j \n",
    "    \n",
    "    def get_rank(self, j):\n",
    "        return self.rank[j]\n",
    "    \n",
    "    # Function: find\n",
    "    # Implement the find algorithm for a node j in the set.\n",
    "    # Repeatedly traverse the parent pointer until we reach a root.\n",
    "    # Implement the \"rank compression\" strategy by making all \n",
    "    # nodes along path from j to the root point directly to the root.\n",
    "    def find(self, j):\n",
    "        assert 0 <= j < self.n\n",
    "        assert self.parents[j] != None, 'You are calling find on an element that is not part of the family yet. Please call make_set first.'\n",
    "        # your code here\n",
    "        if self.is_representative(j):\n",
    "            return j\n",
    "        else:\n",
    "            current_node = j\n",
    "            nodes_on_path = [] # bookkeeping for rank compression\n",
    "#             while not self.is_representative(current_node):\n",
    "#                 nodes_on_path.append(current_node)\n",
    "#                 current_node = self.parents[current_node]\n",
    "            while True:\n",
    "                if self.is_representative(current_node):\n",
    "                    break\n",
    "                nodes_on_path.append(current_node)\n",
    "                current_node = self.parents[current_node]\n",
    "            for i in nodes_on_path: # rank compression\n",
    "                self.parents[i] = current_node\n",
    "            return current_node\n",
    "        \n",
    "    \n",
    "    # Function : union\n",
    "    # Compute union of j1 and j2\n",
    "    # First do a find to get to the representatives of j1 and j2.\n",
    "    # If they are not the same, then \n",
    "    #  implement union using the rank strategy I.e, lower rank root becomes\n",
    "    #  child of the higher ranked root.\n",
    "    #  break ties by making the first argument j1's root the parent.\n",
    "    def union(self, j1, j2):\n",
    "        assert 0 <= j1 < self.n\n",
    "        assert 0 <= j2 < self.n\n",
    "        assert self.parents[j1] != None\n",
    "        assert self.parents[j2] != None\n",
    "        # your code here\n",
    "        if self.rank[j1] > self.rank[j2]:\n",
    "            self.parents[j2] = j1\n",
    "        elif self.rank[j1] < self.rank[j2]:\n",
    "            self.parents[j1] = j2\n",
    "        else: # tie breaker \n",
    "            self.parents[j2] = j1 \n",
    "            self.rank[j1] += 1"
   ]
  },
  {
   "cell_type": "code",
   "execution_count": 2,
   "id": "5e5867a7",
   "metadata": {
    "deletable": false,
    "editable": false,
    "nbgrader": {
     "cell_type": "code",
     "checksum": "03059dac6b08d4f0eb571846afaf3349",
     "grade": true,
     "grade_id": "cell-0cbc71360d977349",
     "locked": true,
     "points": 10,
     "schema_version": 3,
     "solution": false,
     "task": false
    }
   },
   "outputs": [
    {
     "name": "stdout",
     "output_type": "stream",
     "text": [
      "All tests passed: 10 points.\n"
     ]
    }
   ],
   "source": [
    "d = DisjointForests(10)\n",
    "for i in range(10):\n",
    "    d.make_set(i)\n",
    "\n",
    "for i in range(10):\n",
    "    assert d.find(i) == i, f'Failed: Find on {i} must return {i} back'\n",
    "    \n",
    "d.union(0,1)\n",
    "d.union(2,3)\n",
    "assert(d.find(0) == d.find(1)), '0 and 1 have been union-ed together'\n",
    "assert(d.find(2) == d.find(3)), '2 and 3 have been union-ed together'\n",
    "assert(d.find(0) != d.find(3)), '0 and 3 should be in  different trees'\n",
    "assert((d.get_rank(0) == 2 and d.get_rank(1) == 1) or \n",
    "       (d.get_rank(1) == 2 and d.get_rank(0) == 1)), 'one of the nodes 0 or 1 must have rank 2'\n",
    "\n",
    "assert((d.get_rank(2) == 2 and d.get_rank(3) == 1) or \n",
    "       (d.get_rank(3) == 2 and d.get_rank(2) == 1)), 'one of the nodes 2 or 3 must have rank 2'\n",
    "\n",
    "\n",
    "d.union(3,4)\n",
    "assert(d.find(2) == d.find(4)), '2 and 4 must be in the same set in the family.'\n",
    "\n",
    "d.union(5,7)\n",
    "d.union(6,8)\n",
    "d.union(3,7)\n",
    "d.union(0,6)\n",
    "\n",
    "assert(d.find(6) == d.find(1)), '1 and 6 must be in the same set in the family'\n",
    "assert(d.find(7) == d.find(4)), '7 and 4 must be in the same set in the family'\n",
    "print('All tests passed: 10 points.')"
   ]
  },
  {
   "cell_type": "markdown",
   "id": "ac406903",
   "metadata": {
    "deletable": false,
    "editable": false,
    "nbgrader": {
     "cell_type": "markdown",
     "checksum": "853e9c1e8b9cba46e821877332849769",
     "grade": false,
     "grade_id": "cell-cd8dec6cec070abc",
     "locked": true,
     "schema_version": 3,
     "solution": false,
     "task": false
    }
   },
   "source": [
    "## Problem 2\n",
    "\n",
    "We will now explore finding maximal strongly connected components of an undirected graph using union find data structures. \n",
    "The undirected graph just consists of a list of edges with weights.\n",
    "  - We will associate a non-negative weight $w_{i,j}$ for each undirected edge $(i,j)$.\n",
    "  - We associate some extra data with vertices that will come in handy later.\n",
    "  \n",
    "Please examine the code for undirected graph data structures carefully."
   ]
  },
  {
   "cell_type": "code",
   "execution_count": 3,
   "id": "07c51797",
   "metadata": {
    "deletable": false,
    "editable": false,
    "nbgrader": {
     "cell_type": "code",
     "checksum": "af9f163250390a0b7d7dd8c3e3276383",
     "grade": false,
     "grade_id": "cell-6f8fe97ae5467ab1",
     "locked": true,
     "schema_version": 3,
     "solution": false,
     "task": false
    }
   },
   "outputs": [],
   "source": [
    "    \n",
    "class UndirectedGraph:\n",
    "    \n",
    "    # n is the number of vertices\n",
    "    # we will label the vertices from 0 to self.n -1 \n",
    "    # We simply store the edges in a list.\n",
    "    def __init__(self, n):\n",
    "        assert n >= 1, 'You are creating an empty graph -- disallowed'\n",
    "        self.n = n\n",
    "        self.edges = []\n",
    "        self.vertex_data = [None]*self.n\n",
    "       \n",
    "        \n",
    "    def set_vertex_data(self, j, dat):\n",
    "        assert 0 <= j < self.n\n",
    "        self.vertex_data[j] = dat\n",
    "        \n",
    "    def get_vertex_data(self, j):\n",
    "        assert 0 <= j < self.n\n",
    "        return self.vertex_data[j] \n",
    "        \n",
    "    def add_edge(self, i, j, wij):\n",
    "        assert 0 <= i < self.n\n",
    "        assert 0 <= j < self.n\n",
    "        assert i != j\n",
    "        # Make sure to add edge from i to j with weight wij\n",
    "        self.edges.append((i, j, wij))\n",
    "        \n",
    "    def sort_edges(self):\n",
    "        # sort edges in ascending order of weights.\n",
    "        self.edges = sorted(self.edges, key=lambda edg_data: edg_data[2])\n",
    "        "
   ]
  },
  {
   "cell_type": "markdown",
   "id": "79a2623e",
   "metadata": {
    "deletable": false,
    "editable": false,
    "nbgrader": {
     "cell_type": "markdown",
     "checksum": "bb0a7f02313a497f734bbded3a2eddd3",
     "grade": false,
     "grade_id": "cell-4b54ea84c7ce1fdb",
     "locked": true,
     "schema_version": 3,
     "solution": false,
     "task": false
    }
   },
   "source": [
    "## 2A: Use union-find data-structures to compute strongly connected components.\n",
    "We have previously seen  how to use DFS to find maximal strongly connected components with a small twist.\n",
    "\n",
    "  - We will consider only those edges $(i,j)$ whose weights are less than or equal to a threshold $W$ provided by the user.\n",
    "  - Edges with weights above this threshold are not considered.\n",
    "  \n",
    "Design an algorithm to compute all the maximal strongly connected components for all eeges with threshold $W$ using the union-find data structure. What is the running time of your algorithm. Note that this is manually graded answer : you can compare your solution against our solution provided at the end of this assignment."
   ]
  },
  {
   "cell_type": "markdown",
   "id": "27996b89",
   "metadata": {
    "deletable": false,
    "nbgrader": {
     "cell_type": "markdown",
     "checksum": "ccb4284c74590cbbfac0f962b50b9f53",
     "grade": true,
     "grade_id": "cell-94153fc9451a6c95",
     "locked": false,
     "points": 0,
     "schema_version": 3,
     "solution": true,
     "task": false
    }
   },
   "source": [
    "YOUR ANSWER HERE"
   ]
  },
  {
   "cell_type": "markdown",
   "id": "5b6c2598",
   "metadata": {
    "deletable": false,
    "editable": false,
    "nbgrader": {
     "cell_type": "markdown",
     "checksum": "1916fe92de0d337d616b5abb78c9b01b",
     "grade": false,
     "grade_id": "cell-be1250df82ed5664",
     "locked": true,
     "schema_version": 3,
     "solution": false,
     "task": false
    }
   },
   "source": [
    "Complete the missing parts of the function in the code below to compute strongly connected components."
   ]
  },
  {
   "cell_type": "code",
   "execution_count": 27,
   "id": "d091e19d",
   "metadata": {
    "deletable": false,
    "nbgrader": {
     "cell_type": "code",
     "checksum": "07bd9613010db79763f5e4e2819fad68",
     "grade": false,
     "grade_id": "cell-a4d7174d77f5248c",
     "locked": false,
     "schema_version": 3,
     "solution": true,
     "task": false
    }
   },
   "outputs": [],
   "source": [
    "def compute_scc(g, W): # g: UndirectedGraph, W: float\n",
    "    # create a disjoint forest with as many elements as number of vertices\n",
    "    # Next compute the strongly connected components using the disjoint forest data structure\n",
    "    d = DisjointForests(g.n)\n",
    "    # your code here\n",
    "    # 1. make sets\n",
    "    for i in range(g.n):\n",
    "        d.make_set(i)\n",
    "    # 2. filtered edges\n",
    "    filtered_edges = list(filter(lambda x: x[2] <= W, g.edges))\n",
    "#     print(ascending_edges)\n",
    "    # 3. connect(union)\n",
    "    for (i,j,w) in filtered_edges:\n",
    "        if d.find(i) != d.find(j): # not in the same tree\n",
    "            d.union(i, j)\n",
    "    \n",
    "    # extract a set of sets from d\n",
    "    return d.dictionary_of_sets()    "
   ]
  },
  {
   "cell_type": "code",
   "execution_count": 31,
   "id": "f387aa0f",
   "metadata": {},
   "outputs": [
    {
     "name": "stdout",
     "output_type": "stream",
     "text": [
      "[(0, 1, 0.5), (0, 2, 1.0), (0, 4, 0.5), (2, 3, 1.5), (2, 4, 2.0), (3, 4, 1.5), (5, 6, 2.0), (5, 7, 2.0)]\n",
      "[None, None, None, None, None, None, None, None]\n",
      "{}\n",
      "{}\n"
     ]
    }
   ],
   "source": [
    "g3 = UndirectedGraph(8)\n",
    "g3.add_edge(0,1,0.5)\n",
    "g3.add_edge(0,2,1.0)\n",
    "g3.add_edge(0,4,0.5)\n",
    "g3.add_edge(2,3,1.5)\n",
    "g3.add_edge(2,4,2.0)\n",
    "g3.add_edge(3,4,1.5)\n",
    "g3.add_edge(5,6,2.0)\n",
    "g3.add_edge(5,7,2.0)\n",
    "print(g3.edges)\n",
    "print(g3.vertex_data)\n",
    "\n",
    "d = DisjointForests(8)\n",
    "print(d.dictionary_of_sets())\n",
    "\n",
    "compute_scc(g3, W=4)\n",
    "print(d.dictionary_of_sets())"
   ]
  },
  {
   "cell_type": "code",
   "execution_count": 29,
   "id": "3fdc0d42",
   "metadata": {
    "deletable": false,
    "editable": false,
    "nbgrader": {
     "cell_type": "code",
     "checksum": "4a6b59173fdd5a3bf0da3ebcbc734da8",
     "grade": true,
     "grade_id": "cell-d30d854620f3e8a6",
     "locked": true,
     "points": 10,
     "schema_version": 3,
     "solution": false,
     "task": false
    }
   },
   "outputs": [
    {
     "name": "stdout",
     "output_type": "stream",
     "text": [
      "SCCs with threshold 2.0 computed by your code are:\n",
      "{0, 1, 2, 3, 4}\n",
      "{5, 6, 7}\n",
      "SCCs with threshold 1.5\n",
      "{0, 1, 2, 3, 4}\n",
      "{5}\n",
      "{6}\n",
      "{7}\n",
      "All tests passed: 10 points\n"
     ]
    }
   ],
   "source": [
    "g3 = UndirectedGraph(8)\n",
    "g3.add_edge(0,1,0.5)\n",
    "g3.add_edge(0,2,1.0)\n",
    "g3.add_edge(0,4,0.5)\n",
    "g3.add_edge(2,3,1.5)\n",
    "g3.add_edge(2,4,2.0)\n",
    "g3.add_edge(3,4,1.5)\n",
    "g3.add_edge(5,6,2.0)\n",
    "g3.add_edge(5,7,2.0)\n",
    "res = compute_scc(g3, 2.0)\n",
    "print('SCCs with threshold 2.0 computed by your code are:')\n",
    "assert len(res) == 2, f'Expected 2 SCCs but got {len(res)}'\n",
    "for (k, s) in res.items():\n",
    "    print(s)\n",
    "    \n",
    "# Let us check that your code returns what we expect.\n",
    "for (k, s) in res.items():\n",
    "    if (k in [0,1,2,3,4]):\n",
    "        assert (s == set([0,1,2,3,4])), '{0,1,2,3,4} should be an SCC'\n",
    "    if (k in [5,6,7]):\n",
    "        assert (s == set([5,6,7])), '{5,6,7} should be an SCC'\n",
    "\n",
    "        \n",
    "# Let us check that the thresholding works\n",
    "print('SCCs with threshold 1.5')\n",
    "res2 = compute_scc(g3, 1.5) # This cutsoff edges 2,4 and 5, 6, 7\n",
    "for (k, s) in res2.items():\n",
    "    print(s)\n",
    "assert len(res2) == 4, f'Expected 4 SCCs but got {len(res2)}'\n",
    "\n",
    "for (k, s) in res2.items():\n",
    "    if k in [0,1,2,3,4]:\n",
    "        assert (s == set([0,1,2,3,4])), '{0,1,2,3,4} should be an SCC'\n",
    "    if k in [5]:\n",
    "        assert s == set([5]), '{5} should be an SCC with just a single node.'\n",
    "    if k in [6]:\n",
    "        assert s == set([6]), '{6} should be an SCC with just a single node.'\n",
    "    if k in [7]:\n",
    "        assert s == set([7]), '{7} should be an SCC with just a single node.'\n",
    "        \n",
    "print('All tests passed: 10 points')\n"
   ]
  },
  {
   "cell_type": "markdown",
   "id": "6d4e99a2",
   "metadata": {
    "deletable": false,
    "editable": false,
    "nbgrader": {
     "cell_type": "markdown",
     "checksum": "0f8df8f8f2c5359d3e994b9a2d96790e",
     "grade": false,
     "grade_id": "cell-667a65a6e0588d86",
     "locked": true,
     "schema_version": 3,
     "solution": false,
     "task": false
    }
   },
   "source": [
    "## 2B Compute Minimum Spanning Tree \n",
    "\n",
    "We will now compute the MST of a given undirected weighted graph using Kruskal's algorithm. \n",
    "Complete the code below that uses a disjoint set forest data structure for implementing Kruskal's algorithm.\n",
    "\n",
    "You code simply returns a list of edges with edge weights  as a tuple $(i,j, wij)$ that are part of the MST along with the total weight of the MST.\n"
   ]
  },
  {
   "cell_type": "code",
   "execution_count": 36,
   "id": "62a07376",
   "metadata": {
    "deletable": false,
    "nbgrader": {
     "cell_type": "code",
     "checksum": "aebddad143d927bd38e5a979816948a6",
     "grade": false,
     "grade_id": "cell-2cda8a14f5878e37",
     "locked": false,
     "schema_version": 3,
     "solution": true,
     "task": false
    }
   },
   "outputs": [],
   "source": [
    "def compute_mst(g):\n",
    "    # return a tuple of two items\n",
    "    #   1. list of edges (i,j) that are part of the MST\n",
    "    #   2. sum of MST edge weights.\n",
    "    d = DisjointForests(g.n)\n",
    "    mst_edges = []\n",
    "    g.sort_edges()\n",
    "    # your code here\n",
    "    # 1. make sets\n",
    "    for i in range(g.n):\n",
    "        d.make_set(i)\n",
    "    # 2. sort edges\n",
    "    sorted_edges = g.edges\n",
    "#     print(ascending_edges)\n",
    "    # 3. connect(union)\n",
    "    sum_weight = 0\n",
    "#     print(sorted_edges)\n",
    "    for (i,j,w) in sorted_edges:\n",
    "        if d.find(i) != d.find(j): # not in the same tree\n",
    "            d.union(i, j)    \n",
    "            mst_edges.append((i, j, w))\n",
    "            sum_weight += w\n",
    "            \n",
    "    return mst_edges, sum_weight\n",
    "    \n",
    "    "
   ]
  },
  {
   "cell_type": "code",
   "execution_count": 38,
   "id": "fac5a3a3",
   "metadata": {
    "deletable": false,
    "editable": false,
    "nbgrader": {
     "cell_type": "code",
     "checksum": "3803c48a8328f2025054520c66b862b0",
     "grade": true,
     "grade_id": "cell-f9dbfd82f94a8a26",
     "locked": true,
     "points": 10,
     "schema_version": 3,
     "solution": false,
     "task": false
    }
   },
   "outputs": [
    {
     "name": "stdout",
     "output_type": "stream",
     "text": [
      "[(0, 1, 0.5), (0, 4, 0.5), (0, 2, 1.0), (2, 3, 1.5), (3, 4, 1.5), (2, 4, 2.0), (5, 6, 2.0), (5, 7, 2.0), (3, 5, 2.0)]\n",
      "Your code computed MST: \n",
      "\t (0, 1) weight 0.5\n",
      "\t (0, 4) weight 0.5\n",
      "\t (0, 2) weight 1.0\n",
      "\t (2, 3) weight 1.5\n",
      "\t (5, 6) weight 2.0\n",
      "\t (5, 7) weight 2.0\n",
      "\t (3, 5) weight 2.0\n",
      "Total edge weight: 9.5\n",
      "All tests passed: 10 points!\n"
     ]
    }
   ],
   "source": [
    "g3 = UndirectedGraph(8)\n",
    "g3.add_edge(0,1,0.5)\n",
    "g3.add_edge(0,2,1.0)\n",
    "g3.add_edge(0,4,0.5)\n",
    "g3.add_edge(2,3,1.5)\n",
    "g3.add_edge(2,4,2.0)\n",
    "g3.add_edge(3,4,1.5)\n",
    "g3.add_edge(5,6,2.0)\n",
    "g3.add_edge(5,7,2.0)\n",
    "g3.add_edge(3,5,2.0)\n",
    "\n",
    "(mst_edges, mst_weight) = compute_mst(g3)\n",
    "print('Your code computed MST: ')\n",
    "for (i,j,wij) in mst_edges:\n",
    "    print(f'\\t {(i,j)} weight {wij}')\n",
    "print(f'Total edge weight: {mst_weight}')\n",
    "\n",
    "assert mst_weight == 9.5, 'Optimal MST weight is expected to be 9.5'\n",
    "\n",
    "assert (0,1,0.5) in mst_edges\n",
    "assert (0,2,1.0) in mst_edges\n",
    "assert (0,4,0.5) in mst_edges\n",
    "assert (5,6,2.0) in mst_edges\n",
    "assert (5,7,2.0) in mst_edges\n",
    "assert (3,5,2.0) in mst_edges\n",
    "assert (2,3, 1.5) in mst_edges or (3,4, 1.5) in mst_edges\n",
    "\n",
    "print('All tests passed: 10 points!')\n"
   ]
  },
  {
   "cell_type": "markdown",
   "id": "59ab4531",
   "metadata": {
    "deletable": false,
    "editable": false,
    "nbgrader": {
     "cell_type": "markdown",
     "checksum": "04b1d7249a2e7a0206110cde2033b8e1",
     "grade": false,
     "grade_id": "cell-85ea8b22b6d86d5c",
     "locked": true,
     "schema_version": 3,
     "solution": false,
     "task": false
    }
   },
   "source": [
    "## 2C: Edge Threshold to Disconnect a Graph\n",
    "\n",
    "Let $G$ be a weighted undirected graph that is strongly connected (i.e, the entire graph itself is an SCC). Our goal is to find a largest weight $W$ such that removing all edges of weight $\\geq W$ will disconnect the graph.\n",
    "\n",
    "Prove that the threshold $W$ is equal to the largest weight edge in the MST found by Kruskal's algorithm by proving that:\n",
    "  - Removing all edges of weight  $\\geq W$  will result in a disconnected graph.\n",
    "  - Keeping just  edges of weight $\\leq W$ (or removing edges of weight $> W$) will result in a connected graph.\n",
    "\n",
    "\n",
    "Use the fact that a graph is strongly connected if and only if it has a minimum spanning tree. "
   ]
  },
  {
   "cell_type": "markdown",
   "id": "b94a284b",
   "metadata": {
    "deletable": false,
    "nbgrader": {
     "cell_type": "markdown",
     "checksum": "d1ab66e67a80fcae89520d5472d560ac",
     "grade": true,
     "grade_id": "cell-9b92e201acbbe735",
     "locked": false,
     "points": 0,
     "schema_version": 3,
     "solution": true,
     "task": false
    }
   },
   "source": [
    "YOUR ANSWER HERE"
   ]
  },
  {
   "cell_type": "markdown",
   "id": "9816fa09",
   "metadata": {
    "deletable": false,
    "editable": false,
    "nbgrader": {
     "cell_type": "markdown",
     "checksum": "12b55a6ccdf8297b80e2100b4788fe8e",
     "grade": false,
     "grade_id": "cell-7d15a172de2cb076",
     "locked": true,
     "schema_version": 3,
     "solution": false,
     "task": false
    }
   },
   "source": [
    "## Topological Data Analysis on Images (Not part of the Assignment -- just in case you are curious).\n",
    "\n",
    "We illustrate an interesting connection between the graph algorithms for strongly connected components and minimum spanning trees to analyze images. Specifically, we will identify components in images as follows.\n",
    "\n",
    "a) First, we treat an image stored as a `.png` or `.jpg` file as a matrix of pixels where pixels have color and intensity.\n",
    "\n",
    "b) Given an image, we build a graph whose vertices are pixes and edges connect neighboring pixels.\n",
    "\n",
    "c) The edge weight of an edge in the graph connecting neighboring pixels measures the intensity difference between the pixels (other measures of local pixel differences could also be used).\n",
    "\n",
    "\n",
    "We can perform the following analysis (this is just an example of this kind of analysis which belongs to a larger family of methods called topological data analysis).\n",
    "\n",
    "\n",
    "(a) Build a minimum spanning tree and compute the maximum weight edge in the MST. Let us call it W.\n",
    "\n",
    "(b) Consider the maximal strongly connected components of the image for various thresholds such as $0.5W$, $0.75W$ or $0.9W$. Visualizing the pixels in various strongly connected components will allow us to study the \"segments\" that make up the images.\n",
    "\n",
    "Here is some useful code using opencv to load images. Please take a close look."
   ]
  },
  {
   "cell_type": "code",
   "execution_count": 39,
   "id": "aac54278",
   "metadata": {
    "deletable": false,
    "editable": false,
    "nbgrader": {
     "cell_type": "code",
     "checksum": "d4d1f581d003cbcf1b0b249036552bbb",
     "grade": false,
     "grade_id": "cell-9ced07a9405e21cb",
     "locked": true,
     "schema_version": 3,
     "solution": false,
     "task": false
    }
   },
   "outputs": [
    {
     "ename": "ModuleNotFoundError",
     "evalue": "No module named 'cv2'",
     "output_type": "error",
     "traceback": [
      "\u001b[1;31m---------------------------------------------------------------------------\u001b[0m",
      "\u001b[1;31mModuleNotFoundError\u001b[0m                       Traceback (most recent call last)",
      "\u001b[1;32m<ipython-input-39-6f3a68e6d719>\u001b[0m in \u001b[0;36m<module>\u001b[1;34m\u001b[0m\n\u001b[0;32m      1\u001b[0m \u001b[0mget_ipython\u001b[0m\u001b[1;33m(\u001b[0m\u001b[1;33m)\u001b[0m\u001b[1;33m.\u001b[0m\u001b[0mrun_line_magic\u001b[0m\u001b[1;33m(\u001b[0m\u001b[1;34m'matplotlib'\u001b[0m\u001b[1;33m,\u001b[0m \u001b[1;34m'inline'\u001b[0m\u001b[1;33m)\u001b[0m\u001b[1;33m\u001b[0m\u001b[1;33m\u001b[0m\u001b[0m\n\u001b[0;32m      2\u001b[0m \u001b[1;32mfrom\u001b[0m \u001b[0mmatplotlib\u001b[0m \u001b[1;32mimport\u001b[0m \u001b[0mpyplot\u001b[0m \u001b[1;32mas\u001b[0m \u001b[0mplt\u001b[0m\u001b[1;33m\u001b[0m\u001b[1;33m\u001b[0m\u001b[0m\n\u001b[1;32m----> 3\u001b[1;33m \u001b[1;32mimport\u001b[0m \u001b[0mcv2\u001b[0m\u001b[1;33m\u001b[0m\u001b[1;33m\u001b[0m\u001b[0m\n\u001b[0m\u001b[0;32m      4\u001b[0m \u001b[1;31m# You can read png, jpg and other file types\u001b[0m\u001b[1;33m\u001b[0m\u001b[1;33m\u001b[0m\u001b[1;33m\u001b[0m\u001b[0m\n\u001b[0;32m      5\u001b[0m \u001b[0mimg\u001b[0m \u001b[1;33m=\u001b[0m \u001b[0mcv2\u001b[0m\u001b[1;33m.\u001b[0m\u001b[0mimread\u001b[0m\u001b[1;33m(\u001b[0m\u001b[1;34m'test-pic.png'\u001b[0m\u001b[1;33m)\u001b[0m \u001b[1;31m# read an image from a file using opencv (cv2) library\u001b[0m\u001b[1;33m\u001b[0m\u001b[1;33m\u001b[0m\u001b[0m\n",
      "\u001b[1;31mModuleNotFoundError\u001b[0m: No module named 'cv2'"
     ]
    }
   ],
   "source": [
    "%matplotlib inline\n",
    "from matplotlib import pyplot as plt\n",
    "import cv2\n",
    "# You can read png, jpg and other file types \n",
    "img = cv2.imread('test-pic.png') # read an image from a file using opencv (cv2) library\n",
    "# you can annotate images \n",
    "plt.imshow(img) # show the image on the screen \n",
    "# You can find out the size of the image\n",
    "print('Image size (height, width, num layers) is', img.shape)\n",
    "\n",
    "px = img[145, 67] # img[y,x] is the color of the pixel of x,y\n",
    "print(f'Pixel at (145,67) is {px}')\n",
    "print(' pixels are RGB values.')\n",
    "\n"
   ]
  },
  {
   "cell_type": "code",
   "execution_count": 40,
   "id": "9f6618b4",
   "metadata": {
    "deletable": false,
    "editable": false,
    "nbgrader": {
     "cell_type": "code",
     "checksum": "ce96b4636db917d3d9cd0c0b616600a2",
     "grade": false,
     "grade_id": "cell-80c31297b2e2f43f",
     "locked": true,
     "schema_version": 3,
     "solution": false,
     "task": false
    }
   },
   "outputs": [
    {
     "ename": "ModuleNotFoundError",
     "evalue": "No module named 'cv2'",
     "output_type": "error",
     "traceback": [
      "\u001b[1;31m---------------------------------------------------------------------------\u001b[0m",
      "\u001b[1;31mModuleNotFoundError\u001b[0m                       Traceback (most recent call last)",
      "\u001b[1;32m<ipython-input-40-6cd81de6ac29>\u001b[0m in \u001b[0;36m<module>\u001b[1;34m\u001b[0m\n\u001b[0;32m      1\u001b[0m \u001b[1;31m# load an image and make it into a graph.\u001b[0m\u001b[1;33m\u001b[0m\u001b[1;33m\u001b[0m\u001b[1;33m\u001b[0m\u001b[0m\n\u001b[0;32m      2\u001b[0m \u001b[1;32mimport\u001b[0m \u001b[0mmath\u001b[0m\u001b[1;33m\u001b[0m\u001b[1;33m\u001b[0m\u001b[0m\n\u001b[1;32m----> 3\u001b[1;33m \u001b[1;32mimport\u001b[0m \u001b[0mcv2\u001b[0m\u001b[1;33m\u001b[0m\u001b[1;33m\u001b[0m\u001b[0m\n\u001b[0m\u001b[0;32m      4\u001b[0m \u001b[1;32mdef\u001b[0m \u001b[0mpixel_difference\u001b[0m\u001b[1;33m(\u001b[0m\u001b[0mpx1\u001b[0m\u001b[1;33m,\u001b[0m \u001b[0mpx2\u001b[0m\u001b[1;33m)\u001b[0m\u001b[1;33m:\u001b[0m\u001b[1;33m\u001b[0m\u001b[1;33m\u001b[0m\u001b[0m\n\u001b[0;32m      5\u001b[0m     \u001b[1;32mdef\u001b[0m \u001b[0mfix_pixels\u001b[0m \u001b[1;33m(\u001b[0m\u001b[0mpx\u001b[0m\u001b[1;33m)\u001b[0m\u001b[1;33m:\u001b[0m\u001b[1;33m\u001b[0m\u001b[1;33m\u001b[0m\u001b[0m\n",
      "\u001b[1;31mModuleNotFoundError\u001b[0m: No module named 'cv2'"
     ]
    }
   ],
   "source": [
    "# load an image and make it into a graph.\n",
    "import math\n",
    "import cv2\n",
    "def pixel_difference(px1, px2):\n",
    "    def fix_pixels (px):\n",
    "        return [int(px[0]), int(px[1]), int(px[2]) ]\n",
    "    px1_float = fix_pixels(px1)\n",
    "    px2_float = fix_pixels(px2)\n",
    "    return max( abs(px1_float[0] - px2_float[0]), abs(px1_float[1] - px2_float[1]), abs(px1_float[2] - px2_float[2])) \n",
    "\n",
    "def get_index_from_pixel(i, j, height, width):\n",
    "    assert 0 <= i < width\n",
    "    assert 0 <= j < height\n",
    "    return j * width + i\n",
    "\n",
    "def get_coordinates_from_index(s, height, width):\n",
    "    assert 0 <= s < height * width\n",
    "    j = s//width\n",
    "    i = s % width\n",
    "    return (i,j)\n",
    "\n",
    "def connect_neighboring_pixels(i, j, i1, j1, img, g):\n",
    "    (height, width, _) = img.shape\n",
    "    s = get_index_from_pixel(i, j, height, width)\n",
    "    px = img[j,i]\n",
    "    s1 = get_index_from_pixel(i1, j1, height, width)\n",
    "    px1 = img[j1,i1]\n",
    "    w = pixel_difference(px1, px)\n",
    "    g.add_edge(s, s1, w)\n",
    "    \n",
    "\n",
    "def load_image_and_make_graph(imfilename):\n",
    "    img = cv2.imread(imfilename)\n",
    "    (height, width, num_layers) = img.shape\n",
    "    g = UndirectedGraph(height * width)\n",
    "    for j in range(height):\n",
    "        for i in range(width):\n",
    "            s = get_index_from_pixel(i, j, height, width)\n",
    "            g.set_vertex_data(s, (i,j))\n",
    "            if i > 0:\n",
    "                connect_neighboring_pixels(i, j, i-1, j, img, g)\n",
    "            if i < width -1:\n",
    "                connect_neighboring_pixels(i, j, i+1, j, img, g)\n",
    "            if j > 0:\n",
    "                connect_neighboring_pixels(i, j, i, j-1, img, g)\n",
    "            if j < height -1:\n",
    "                connect_neighboring_pixels(i, j, i, j+1, img, g)\n",
    "    return g\n",
    "                \n",
    "                \n",
    "            \n"
   ]
  },
  {
   "cell_type": "code",
   "execution_count": null,
   "id": "daf39d20",
   "metadata": {
    "deletable": false,
    "editable": false,
    "nbgrader": {
     "cell_type": "code",
     "checksum": "14d187643f3547fc6843c36e15cc2904",
     "grade": false,
     "grade_id": "cell-599dec2bd5ebedbd",
     "locked": true,
     "schema_version": 3,
     "solution": false,
     "task": false
    }
   },
   "outputs": [],
   "source": [
    "print('Loading image and building graph.')\n",
    "g = load_image_and_make_graph('test-pic.png')\n",
    "print('Running MST algorithm')\n",
    "(mst_edges, mst_weight) = compute_mst(g)\n",
    "print(f'Found MST witn {len(mst_edges)} edges and total weight = {mst_weight}')\n",
    "max_mst_edge_weight= max(mst_edges, key=lambda e: e[2])\n",
    "print(f'Largest MST edge weight = {max_mst_edge_weight[2]}')"
   ]
  },
  {
   "cell_type": "code",
   "execution_count": null,
   "id": "6ced058d",
   "metadata": {
    "deletable": false,
    "editable": false,
    "nbgrader": {
     "cell_type": "code",
     "checksum": "f3246be526448bf332ae53af5dc0cbfb",
     "grade": false,
     "grade_id": "cell-87cd1dd9eed6559a",
     "locked": true,
     "schema_version": 3,
     "solution": false,
     "task": false
    }
   },
   "outputs": [],
   "source": [
    "import numpy as np\n",
    "\n",
    "\n",
    "    \n",
    "def visualize_components(orig_image, g, components_dict):\n",
    "    (w,h,channels) = orig_image.shape\n",
    "    new_image = np.zeros((w, h, channels), np.uint8)\n",
    "    count = 0\n",
    "    delta = 10\n",
    "    for (key, vertSet) in components_dict.items():\n",
    "        if len(vertSet) >= 10: \n",
    "            (i,j) = g.get_vertex_data(key)\n",
    "            rgb_px = orig_image[j,i]\n",
    "            rgb_color = (int(rgb_px[0]), int(rgb_px[1]), int(rgb_px[2]))\n",
    "            count = count+1          \n",
    "            for s in vertSet:\n",
    "                (i,j) = g.get_vertex_data(s)\n",
    "                cv2.circle(new_image,(i,j), 1, rgb_color, -1) \n",
    "    return new_image"
   ]
  },
  {
   "cell_type": "code",
   "execution_count": null,
   "id": "e92c9f27",
   "metadata": {},
   "outputs": [],
   "source": [
    "W0 = 0.01* max_mst_edge_weight[2]\n",
    "res = compute_scc(g, W0)\n",
    "print(f'Found {len(res)} components')\n",
    "print('Showing components with at least 10 vertices')\n",
    "new_img= visualize_components(img, g, res)\n",
    "plt.imshow(new_img) # show the image on the screen "
   ]
  },
  {
   "cell_type": "code",
   "execution_count": null,
   "id": "2a8f7392",
   "metadata": {
    "deletable": false,
    "editable": false,
    "nbgrader": {
     "cell_type": "code",
     "checksum": "0d8fd3da9789a1f3721ee6e3da668cec",
     "grade": false,
     "grade_id": "cell-e89feaa826665332",
     "locked": true,
     "schema_version": 3,
     "solution": false,
     "task": false
    }
   },
   "outputs": [],
   "source": [
    "W0 = 0.02* max_mst_edge_weight[2]\n",
    "res = compute_scc(g, W0)\n",
    "print(f'Found {len(res)} components')\n",
    "print('Showing components with at least 10 vertices')\n",
    "new_img= visualize_components(img, g, res)\n",
    "plt.imshow(new_img) # show the image on the screen "
   ]
  },
  {
   "cell_type": "code",
   "execution_count": null,
   "id": "a023d4ac",
   "metadata": {
    "deletable": false,
    "editable": false,
    "nbgrader": {
     "cell_type": "code",
     "checksum": "a00ab223359cadf503d5cad116f9729f",
     "grade": false,
     "grade_id": "cell-3ca90df6a93a5d0b",
     "locked": true,
     "schema_version": 3,
     "solution": false,
     "task": false
    }
   },
   "outputs": [],
   "source": [
    "W0 = 0.03* max_mst_edge_weight[2]\n",
    "res = compute_scc(g, W0)\n",
    "print(f'Found {len(res)} components')\n",
    "new_img= visualize_components(img, g, res)\n",
    "print('Showing components with at least 10 vertices')\n",
    "plt.imshow(new_img) # show the image on the screen "
   ]
  },
  {
   "cell_type": "code",
   "execution_count": null,
   "id": "e0b1dffb",
   "metadata": {
    "deletable": false,
    "editable": false,
    "nbgrader": {
     "cell_type": "code",
     "checksum": "17686e89bb4d7f3c163be63cf8991f26",
     "grade": false,
     "grade_id": "cell-fcbeffed9dd93a97",
     "locked": true,
     "schema_version": 3,
     "solution": false,
     "task": false
    }
   },
   "outputs": [],
   "source": [
    "W0 = 0.04* max_mst_edge_weight[2]\n",
    "res = compute_scc(g, W0)\n",
    "print(f'Found {len(res)} components')\n",
    "print('Showing components with at least 10 vertices')\n",
    "new_img= visualize_components(img, g, res)\n",
    "plt.imshow(new_img) # show the image on the screen "
   ]
  },
  {
   "cell_type": "code",
   "execution_count": null,
   "id": "387e31e3",
   "metadata": {
    "deletable": false,
    "editable": false,
    "nbgrader": {
     "cell_type": "code",
     "checksum": "23a08757aa53f2d3de77dd88b2ebe4a8",
     "grade": false,
     "grade_id": "cell-e4b55da0cb629fde",
     "locked": true,
     "schema_version": 3,
     "solution": false,
     "task": false
    }
   },
   "outputs": [],
   "source": [
    "W0 = 0.05* max_mst_edge_weight[2]\n",
    "res = compute_scc(g, W0)\n",
    "print(f'Found {len(res)} components')\n",
    "print('Showing components with at least 10 vertices')\n",
    "new_img= visualize_components(img, g, res)\n",
    "plt.imshow(new_img) # show the image on the screen "
   ]
  },
  {
   "cell_type": "code",
   "execution_count": null,
   "id": "92d29f61",
   "metadata": {
    "deletable": false,
    "editable": false,
    "nbgrader": {
     "cell_type": "code",
     "checksum": "b21c6a496328c8d643111fe7447eb41f",
     "grade": false,
     "grade_id": "cell-71e7559159df8bad",
     "locked": true,
     "schema_version": 3,
     "solution": false,
     "task": false
    }
   },
   "outputs": [],
   "source": [
    "W0 = 0.07* max_mst_edge_weight[2]\n",
    "res = compute_scc(g, W0)\n",
    "print(f'Found {len(res)} components')\n",
    "print('Showing components with at least 10 vertices')\n",
    "new_img= visualize_components(img, g, res)\n",
    "plt.imshow(new_img) # show the image on the screen "
   ]
  },
  {
   "cell_type": "code",
   "execution_count": null,
   "id": "2e14d4dc",
   "metadata": {
    "deletable": false,
    "editable": false,
    "nbgrader": {
     "cell_type": "code",
     "checksum": "04813d8aaeaaea906386c26c2217f07d",
     "grade": false,
     "grade_id": "cell-dd5c41eef3ce847b",
     "locked": true,
     "schema_version": 3,
     "solution": false,
     "task": false
    }
   },
   "outputs": [],
   "source": [
    "W0 = 0.1* max_mst_edge_weight[2]\n",
    "res = compute_scc(g, W0)\n",
    "print(f'Found {len(res)} components')\n",
    "print('Showing components with at least 10 vertices')\n",
    "new_img= visualize_components(img, g, res)\n",
    "plt.imshow(new_img) # show the image on the screen "
   ]
  },
  {
   "cell_type": "markdown",
   "id": "db8de563",
   "metadata": {
    "deletable": false,
    "editable": false,
    "nbgrader": {
     "cell_type": "markdown",
     "checksum": "a930cf2e0e00240e3908f70395efbf47",
     "grade": false,
     "grade_id": "cell-c517e4dfbc7ff508",
     "locked": true,
     "schema_version": 3,
     "solution": false,
     "task": false
    }
   },
   "source": [
    "# That's all Folks!"
   ]
  }
 ],
 "metadata": {
  "kernelspec": {
   "display_name": "Python 3",
   "language": "python",
   "name": "python3"
  },
  "language_info": {
   "codemirror_mode": {
    "name": "ipython",
    "version": 3
   },
   "file_extension": ".py",
   "mimetype": "text/x-python",
   "name": "python",
   "nbconvert_exporter": "python",
   "pygments_lexer": "ipython3",
   "version": "3.8.8"
  }
 },
 "nbformat": 4,
 "nbformat_minor": 5
}
