{
 "cells": [
  {
   "cell_type": "markdown",
   "metadata": {
    "deletable": false,
    "editable": false,
    "nbgrader": {
     "cell_type": "markdown",
     "checksum": "ad785465bd6e0dee4a15d686cd93880b",
     "grade": false,
     "grade_id": "cell-27d462d2397f7586",
     "locked": true,
     "schema_version": 3,
     "solution": false,
     "task": false
    }
   },
   "source": [
    "## Instructions\n",
    "\n",
    "> This assignment is to be completed and uploaded as a python3 notebook. \n"
   ]
  },
  {
   "cell_type": "markdown",
   "metadata": {
    "deletable": false,
    "editable": false,
    "nbgrader": {
     "cell_type": "markdown",
     "checksum": "491a8f028a437df384b0613f95a9d938",
     "grade": false,
     "grade_id": "cell-28835e85ca131d54",
     "locked": true,
     "schema_version": 3,
     "solution": false,
     "task": false
    }
   },
   "source": [
    "This problem set covers the following topics:\n",
    "  - Basics of algorithms: correctness and running time complexity.\n",
    "  - Time Complexity: O, big-Omega and big-Theta Notations.\n",
    "  - Proving Correctness of Algorithms through Inductive Invariants.\n",
    "  - Merge Sort: Proving Correctness.\n",
    "  \n",
    "__Important Note__\n",
    "\n",
    "Although this is a programming assignment, we have asked you to work on the \"design\" and provided opportunities for you to analyze your solution and describe your design. __However, those parts will not be graded.__ You are welcome to compare your answers against our solutions once you have completed the assignments. Our solutions are provided at the very end.\n"
   ]
  },
  {
   "cell_type": "markdown",
   "metadata": {
    "deletable": false,
    "editable": false,
    "nbgrader": {
     "cell_type": "markdown",
     "checksum": "853027d5a6ac3abc18d077c5e5d4d9d1",
     "grade": false,
     "grade_id": "cell-614ec87a9a930dae",
     "locked": true,
     "schema_version": 3,
     "solution": false,
     "task": false
    }
   },
   "source": [
    "## Problem 1: Find Crossover Indices.\n",
    "\n",
    "You are given data that consists of points\n",
    "$(x_0, y_0), \\ldots, (x_n, y_n)$, wherein $x_0 < x_1 < \\ldots < x_n $, and  $y_0 < y_1 \\ldots < y_n$ as well.\n",
    "\n",
    "Furthermore, it is given that $y_0 < x_0$ and $ y_n > x_n$.\n",
    "\n",
    "Find a \"cross-over\" index $i$ between $0$ and $n-1$ such that  $ y_i \\leq x_i$ and $y_{i+1} > x_{i+1}$.\n",
    "\n",
    "Note that such an index must always exist (convince yourself of this fact before we proceed).\n",
    "\n",
    "\n",
    "__Example__\n",
    "\n",
    "$$\\begin{array}{c| c c c c c c c c c }\n",
    "i & 0 & 1 & 2 & 3 & 4 & 5 & 6 & 7 \\\\\n",
    "\\hline\n",
    "x_i & 0 & 2 & 4 & \\color{red}{5} & \\color{red}{6} & 7 & 8 & 10 \\\\\n",
    "y_i & -2 & 0 & 2 & \\color{red}{4} & \\color{red}{7} & 8 & 10 & 12 \\\\\n",
    "\\end{array} $$\n",
    "\n",
    "\n",
    "Your algorithm must find the index $i=3$ as the crossover point.\n",
    "\n",
    "On the other hand, consider the data\n",
    "\n",
    "$$\\begin{array}{c| c c c c c c c c c }\n",
    "i & 0 & 1 & 2 & 3 & 4 & 5 & 6 & 7 \\\\\n",
    "\\hline\n",
    "x_i & \\color{red}{0} & \\color{red}{1} & 4 & \\color{red}{5} & \\color{red}{6} & 7 & 8 & 10 \\\\\n",
    "y_i & \\color{red}{-2} & \\color{red}{1.5} & 2 & \\color{red}{4} & \\color{red}{7} & 8 & 10 & 12 \\\\\n",
    "\\end{array} $$\n",
    "\n",
    "We have two cross over points. Your algorithm may output either $i=0$ or $i=3$.\n"
   ]
  },
  {
   "cell_type": "markdown",
   "metadata": {
    "deletable": false,
    "editable": false,
    "nbgrader": {
     "cell_type": "markdown",
     "checksum": "0f53c12dfcd416d2d2ebb2bede853c71",
     "grade": false,
     "grade_id": "cell-4915357b02726bc7",
     "locked": true,
     "schema_version": 3,
     "solution": false,
     "task": false
    }
   },
   "source": [
    "__(A)__ Design an algorithm to find an index $i \\in \\{ 0, 1, \\ldots, n-1\\}$ such that $x_i \\geq y_i$ but $x_{i+1} < y_{i+1}$. \n",
    "\n",
    "Describe your algorithm using python code for a function _findCrossoverIndexHelper(x, y, left, right)_\n",
    "  - `x` is a list of x values sorted in increasing order.\n",
    "  - `y` is a list of y values sorted in increasing order.\n",
    "  - `x` and `y` are lists of same size (`n`).\n",
    "  - `left` and `right` are indices that represent the current search region in the list such that 0 <= `left` < `right` <= `n`\n",
    "  \n",
    "Your solution must use _recursion_. \n",
    "\n",
    "**Hint:** Modify the binary search algorithm we presented in class."
   ]
  },
  {
   "cell_type": "code",
   "execution_count": 13,
   "metadata": {},
   "outputs": [],
   "source": [
    "# import numpy as np"
   ]
  },
  {
   "cell_type": "code",
   "execution_count": 14,
   "metadata": {
    "deletable": false,
    "nbgrader": {
     "cell_type": "code",
     "checksum": "89af69d46f1da69fe03174d89400e44c",
     "grade": false,
     "grade_id": "cell-a6c0a4d5a4134433",
     "locked": false,
     "schema_version": 3,
     "solution": true,
     "task": false
    }
   },
   "outputs": [],
   "source": [
    "#First write a \"helper\" function with two extra parameters\n",
    "# left, right that ddedscribes the search region as shown below\n",
    "def findCrossoverIndexHelper(x, y, left, right):\n",
    "    # Note: Output index i such that \n",
    "    #         left <= i <= right\n",
    "    #         x[i] <= y[i]\n",
    "    # First, Write down our invariants as assertions here\n",
    "#     print(\"x\", x)\n",
    "#     print(\"y\", y)\n",
    "#     print(\"left\", left)\n",
    "#     print(\"right\", right)\n",
    "    assert(len(x) == len(y))\n",
    "    assert(left >= 0)\n",
    "    assert(left <= right-1)\n",
    "    assert(right < len(x))\n",
    "    # Here is the key property we would like to maintain.\n",
    "    assert(x[left] > y[left])\n",
    "    assert(x[right] < y[right])\n",
    "    \n",
    "    # your code here\n",
    "#     diff = x - y\n",
    "    if len(x) <= 2:\n",
    "        return left # assume the assert hold\n",
    "    else:\n",
    "        mid = len(x) // 2\n",
    "        head = x[0] - y[0]\n",
    "        if (x[mid-1] - y[mid-1]) * (x[mid] - y[mid]) < 0: # found it: lucky case\n",
    "            return mid -1\n",
    "        elif head * (x[mid] - y[mid]) > 0: # on the right (need to accumulate the index, because of the assert)\n",
    "            return mid+findCrossoverIndexHelper(x[mid:], y[mid:], mid-mid, len(x)-1-mid)\n",
    "        elif head * (x[mid] - y[mid]) < 0: # on the left\n",
    "            return findCrossoverIndexHelper(x[:mid], y[:mid], 0, mid-1)\n",
    "        else: # head * (x[mid] - y[mid]) == 0\n",
    "            raise ValueError(\"x[i] == y[i] ambiguous\")\n",
    "    \n",
    "# diff = [6, -2, -2, -5]\n",
    "# result = findCrossoverIndexHelper(diff, [0]*len(diff), 0, len(diff)-1)    \n",
    "# print(result) # 0\n",
    "# x = [0,1,4,5,6,7,8,10]\n",
    "# y = [-2, 1.5, 2, 4, 7, 8, 10, 12]\n",
    "# result = findCrossoverIndexHelper(x, y, 0, len(x)-1)    \n",
    "# print(result) # 3\n",
    "\n",
    "# x, y = [0,1, 2, 3], [-10, -9, -8, 5]\n",
    "# diff = np.array(x) - np.array(y)\n",
    "# result = findCrossoverIndexHelper(diff, [0]*len(diff), 0, len(diff)-1)    \n",
    "# print(result) # 2"
   ]
  },
  {
   "cell_type": "code",
   "execution_count": 15,
   "metadata": {
    "deletable": false,
    "nbgrader": {
     "cell_type": "code",
     "checksum": "d95493f5780c7a97837fec4f959e8af3",
     "grade": false,
     "grade_id": "cell-810b29ba85034cdb",
     "locked": false,
     "schema_version": 3,
     "solution": true,
     "task": false
    }
   },
   "outputs": [],
   "source": [
    "#Define the function findCrossoverIndex that wil \n",
    "# call the helper function findCrossoverIndexHelper\n",
    "def findCrossoverIndex(x, y):\n",
    "    assert(len(x) == len(y))\n",
    "    assert(x[0] > y[0])\n",
    "    n = len(x)\n",
    "    assert(x[n-1] < y[n-1]) # Note: this automatically ensures n >= 2 why?\n",
    "    # your code here\n",
    "    return findCrossoverIndexHelper(x, y, 0, len(x)-1)\n",
    "\n",
    "# x = [0,1,4,5,6,7,8,10]\n",
    "# y = [-2, 1.5, 2, 4, 7, 8, 10, 12]\n",
    "# result = findCrossoverIndex(x, y)    \n",
    "# print(result) # 3"
   ]
  },
  {
   "cell_type": "code",
   "execution_count": 16,
   "metadata": {
    "deletable": false,
    "editable": false,
    "nbgrader": {
     "cell_type": "code",
     "checksum": "c479a3765d47cebfff3bea28f160f323",
     "grade": true,
     "grade_id": "cell-27ea82442fc84766",
     "locked": true,
     "points": 10,
     "schema_version": 3,
     "solution": false,
     "task": false
    }
   },
   "outputs": [
    {
     "name": "stdout",
     "output_type": "stream",
     "text": [
      "j1 = 1\n",
      "j2 = 1\n",
      "j3 = 0\n",
      "j4 = 2\n",
      "Congratulations: all test cases passed - 10 points\n"
     ]
    }
   ],
   "source": [
    "# BEGIN TEST CASES\n",
    "j1 = findCrossoverIndex([0, 1, 2, 3, 4, 5, 6, 7], [-2, 0, 4, 5, 6, 7, 8, 9])\n",
    "print('j1 = %d' % j1)\n",
    "assert j1 == 1, \"Test Case # 1 Failed\"\n",
    "\n",
    "j2 = findCrossoverIndex([0, 1, 2, 3, 4, 5, 6, 7], [-2, 0, 4, 4.2, 4.3, 4.5, 8, 9])\n",
    "print('j2 = %d' % j2)\n",
    "assert j2 == 1 or j2 == 5, \"Test Case # 2 Failed\"\n",
    "\n",
    "j3 = findCrossoverIndex([0, 1], [-10, 10])\n",
    "print('j3 = %d' % j3)\n",
    "assert j3 == 0, \"Test Case # 3 failed\"\n",
    "\n",
    "j4 = findCrossoverIndex([0,1, 2, 3], [-10, -9, -8, 5])\n",
    "print('j4 = %d' % j4)\n",
    "assert j4 == 2, \"Test Case # 4 failed\"\n",
    "\n",
    "print('Congratulations: all test cases passed - 10 points')\n",
    "#END TEST CASES"
   ]
  },
  {
   "cell_type": "markdown",
   "metadata": {
    "deletable": false,
    "editable": false,
    "nbgrader": {
     "cell_type": "markdown",
     "checksum": "70dff2ee9249a5aa5083436b72a989a3",
     "grade": false,
     "grade_id": "cell-478ce164c89f9b77",
     "locked": true,
     "schema_version": 3,
     "solution": false,
     "task": false
    }
   },
   "source": [
    "__(B, 0 points)__ What is the running time of your algorithm above as a function of the input array size $n$?\n",
    "\n",
    "__This portion is not graded. You are encouraged to answer it as part of your programming assignment however__"
   ]
  },
  {
   "cell_type": "markdown",
   "metadata": {
    "deletable": false,
    "nbgrader": {
     "cell_type": "markdown",
     "checksum": "1734f9cb78beab19f76d02e8e2d05fed",
     "grade": true,
     "grade_id": "cell-3520e78d700c653c",
     "locked": false,
     "points": 0,
     "schema_version": 3,
     "solution": true,
     "task": false
    }
   },
   "source": [
    "YOUR ANSWER HERE"
   ]
  },
  {
   "cell_type": "markdown",
   "metadata": {
    "deletable": false,
    "editable": false,
    "nbgrader": {
     "cell_type": "markdown",
     "checksum": "19431bf210c3bf263e89ec8b7cc52a9e",
     "grade": false,
     "grade_id": "cell-8232427012633f87",
     "locked": true,
     "schema_version": 3,
     "solution": false,
     "task": false
    }
   },
   "source": [
    "## Problem 2 (Find integer cube root.) \n",
    "\n",
    "The integer cube root of a positive number $n$ is the smallest number $i$ such that $i^3 \\leq n$ but $(i+1)^3 > n$. \n",
    "\n",
    "For instance, the integer cube root of $100$ is $4$ since $4^3 \\leq 100$ but $5^3 > 100$. Likewise, the integer cube root of $1000$ is $10$.\n",
    "\n",
    "Write a function `integerCubeRootHelper(n, left, right)` that searches for the integer cube-root of `n` between `left` and `right` given the following pre-conditions:\n",
    "  - $n \\geq 1$\n",
    "  - $\\text{left} < \\text{right}$.\n",
    "  - $\\text{left}^3 < n$\n",
    "  - $\\text{right}^3 > n$."
   ]
  },
  {
   "cell_type": "code",
   "execution_count": 27,
   "metadata": {
    "deletable": false,
    "nbgrader": {
     "cell_type": "code",
     "checksum": "9d6cc3fcbd4ae7f926c528021f3a0856",
     "grade": false,
     "grade_id": "cell-f410dccf78d51da9",
     "locked": false,
     "schema_version": 3,
     "solution": true,
     "task": false
    }
   },
   "outputs": [
    {
     "data": {
      "text/plain": [
       "10"
      ]
     },
     "execution_count": 27,
     "metadata": {},
     "output_type": "execute_result"
    }
   ],
   "source": [
    "def integerCubeRootHelper(n, left, right):\n",
    "    cube = lambda x: x * x * x # anonymous function to cube a number\n",
    "    assert(n >= 1)\n",
    "    assert(left < right)\n",
    "    assert(left >= 0)\n",
    "    assert(right < n)\n",
    "    assert(cube(left) < n), f'{left}, {right}'\n",
    "    assert(cube(right) > n), f'{left}, {right}'\n",
    "    # your code here\n",
    "    # v1: use while for iteration is not expressive and readable\n",
    "#     while cube(left) <=n and left < right:\n",
    "#         left += 1\n",
    "#     return left-1\n",
    "\n",
    "    # v2: \n",
    "    for i in range(left, right):\n",
    "        if cube(i) <= n:\n",
    "            pass\n",
    "        else:\n",
    "            return i-1\n",
    "\n",
    "# n = 100\n",
    "# integerCubeRootHelper(n, 0, n-1)\n",
    "\n",
    "# n = 1000\n",
    "# integerCubeRootHelper(n, 0, n-1)"
   ]
  },
  {
   "cell_type": "code",
   "execution_count": 24,
   "metadata": {
    "deletable": false,
    "editable": false,
    "nbgrader": {
     "cell_type": "code",
     "checksum": "105c8c41a15f7beda6ed455fe832a2de",
     "grade": false,
     "grade_id": "cell-bb634f338e21a0a1",
     "locked": true,
     "schema_version": 3,
     "solution": false,
     "task": false
    }
   },
   "outputs": [],
   "source": [
    "# Write down the main function\n",
    "def integerCubeRoot(n):\n",
    "    assert( n > 0)\n",
    "    if (n == 1): \n",
    "        return 1\n",
    "    if (n == 2):\n",
    "        return 1\n",
    "    return integerCubeRootHelper(n, 0, n-1)"
   ]
  },
  {
   "cell_type": "code",
   "execution_count": 28,
   "metadata": {
    "deletable": false,
    "editable": false,
    "nbgrader": {
     "cell_type": "code",
     "checksum": "02cc2d02ecc885f7bbbe7170d7c271c9",
     "grade": true,
     "grade_id": "cell-580fc4f473d646d0",
     "locked": true,
     "points": 10,
     "schema_version": 3,
     "solution": false,
     "task": false
    }
   },
   "outputs": [
    {
     "name": "stdout",
     "output_type": "stream",
     "text": [
      "Congrats: All tests passed! (10 points)\n"
     ]
    }
   ],
   "source": [
    "assert(integerCubeRoot(1) == 1)\n",
    "assert(integerCubeRoot(2) == 1)\n",
    "assert(integerCubeRoot(4) == 1)\n",
    "assert(integerCubeRoot(7) == 1)\n",
    "assert(integerCubeRoot(8) == 2)\n",
    "assert(integerCubeRoot(20) == 2)\n",
    "assert(integerCubeRoot(26) == 2)\n",
    "for j in range(27, 64):\n",
    "    assert(integerCubeRoot(j) == 3)\n",
    "for j in range(64,125):\n",
    "    assert(integerCubeRoot(j) == 4)\n",
    "for j in range(125, 216):\n",
    "    assert(integerCubeRoot(j) == 5)\n",
    "for j in range(216, 343):\n",
    "    assert(integerCubeRoot(j) == 6)\n",
    "for j in range(343, 512):\n",
    "    assert(integerCubeRoot(j) == 7)\n",
    "print('Congrats: All tests passed! (10 points)')"
   ]
  },
  {
   "cell_type": "markdown",
   "metadata": {
    "deletable": false,
    "editable": false,
    "nbgrader": {
     "cell_type": "markdown",
     "checksum": "bc576102a2dbfb75ac69d8d9eeaa6fa8",
     "grade": false,
     "grade_id": "cell-7b1819b300f659b4",
     "locked": true,
     "schema_version": 3,
     "solution": false,
     "task": false
    }
   },
   "source": [
    "###  (B, 0 points)\n",
    "\n",
    "The inductive invariant for the function `integerCubeRootHelper(n, left, right)` that ensures that the overall algorithm for finding the integer cube root is correct is : \n",
    "  $$\\text{left}^3 < n\\; \\text{and}\\; \\text{right}^3 > n$$\n",
    "\n",
    "\n",
    "Use the inductive invariant to establish that the  integer cube root of $n$ (the final answer we seek) must lie between `left` and `right`. \n",
    "\n",
    "In other words,  let $j$ be the integer cube root of $n$.  \n",
    "\n",
    "Prove using the inductive invariant and property of the integer cube root $j$ that: \n",
    "\n",
    "$$ \\text{left} \\leq j  < \\text{right}$$\n",
    "\n",
    "__Note that this part is not graded. You are encouraged to answer it for your own understanding.__"
   ]
  },
  {
   "cell_type": "markdown",
   "metadata": {
    "deletable": false,
    "nbgrader": {
     "cell_type": "markdown",
     "checksum": "073438c452d7160447bc96896277a040",
     "grade": true,
     "grade_id": "cell-00b07f0c726e3a2d",
     "locked": false,
     "points": 0,
     "schema_version": 3,
     "solution": true,
     "task": false
    }
   },
   "source": [
    "YOUR ANSWER HERE"
   ]
  },
  {
   "cell_type": "markdown",
   "metadata": {
    "deletable": false,
    "editable": false,
    "nbgrader": {
     "cell_type": "markdown",
     "checksum": "98082f2fc90c5a6d5ac5ebb9db5de51d",
     "grade": false,
     "grade_id": "cell-d0d37b326b22282b",
     "locked": true,
     "schema_version": 3,
     "solution": false,
     "task": false
    }
   },
   "source": [
    "### (C, 0 points)\n",
    "\n",
    "Prove that your solution for `integerCubeRootHelper` maintains the overall inductive invariant from part (B). I.e, if the function were called with \n",
    "\n",
    "$0 \\leq \\text{left} < \\text{right} < n$, and  $\\text{left}^3 < n$ and $\\text{right}^3 > n$.\n",
    "\n",
    "Any subsequent recursive calls will have their arguments that also satisfy this property. Model your answer based on the lecture notes for binary search problem provided.\n",
    "\n",
    "__Note that this part is not graded. You are encouraged to answer it for your own understanding.__\n"
   ]
  },
  {
   "cell_type": "markdown",
   "metadata": {
    "deletable": false,
    "nbgrader": {
     "cell_type": "markdown",
     "checksum": "6e9183216cf9b77673e83e66a1592727",
     "grade": true,
     "grade_id": "cell-b9eb749c03f9e41c",
     "locked": false,
     "points": 0,
     "schema_version": 3,
     "solution": true,
     "task": false
    }
   },
   "source": [
    "YOUR ANSWER HERE"
   ]
  },
  {
   "cell_type": "markdown",
   "metadata": {
    "deletable": false,
    "editable": false,
    "nbgrader": {
     "cell_type": "markdown",
     "checksum": "e2ab4e3515e996c3a3167fe63bedb15f",
     "grade": false,
     "grade_id": "cell-19777b5762c73801",
     "locked": true,
     "schema_version": 3,
     "solution": false,
     "task": false
    }
   },
   "source": [
    "## Problem 3 (Develop Multiway Merge Algorithm, 15 points).\n",
    "\n",
    "We studied the problem of merging 2 sorted lists `lst1` and `lst2` into a single sorted list in time $\\Theta(m + n)$ where $m$ is the size of `lst1` and $n$ is the size of `lst2`.  Let `twoWayMerge(lst1, lst2)` represent the python function that returns the merged result using the approach presented in class.\n",
    "\n",
    "In this problem, we will explore algorithms for merging `k` different sorted lists, usually represented as a list of sorted lists into a single list.\n",
    "\n",
    "### (A, 0 points) \n",
    "\n",
    "Suppose we have $k$ lists that we will represent as `lists[0]`, `lists[1]`, ..., `lists[k-1]` for convenience and the size of these lists are all assumed to be the same value $n$. \n",
    "\n",
    "We wish to solve multiway merge by merging two lists at a time: \n",
    "\n",
    "```\n",
    "  mergedList = lists[0] # start with list 0\n",
    "  for i = 1, ... k-1 do\n",
    "      mergedList = twoWayMerge(mergedList, lists[i])\n",
    "  return mergedList\n",
    "```\n",
    "\n",
    "Knowing the running time of the `twoWayMerge` algorithm as mentioned above, what is the overall running time of the algorithm in terms of $n, k$.\n",
    "\n",
    "__Note that this part is not graded. You are encouraged to answer it for your own understanding.__\n",
    "      "
   ]
  },
  {
   "cell_type": "markdown",
   "metadata": {
    "deletable": false,
    "nbgrader": {
     "cell_type": "markdown",
     "checksum": "6e32a04e71da851c36de42cbefde76ee",
     "grade": true,
     "grade_id": "cell-9ed6c57e3ae0a952",
     "locked": false,
     "points": 0,
     "schema_version": 3,
     "solution": true,
     "task": false
    }
   },
   "source": [
    "YOUR ANSWER HERE"
   ]
  },
  {
   "cell_type": "markdown",
   "metadata": {
    "deletable": false,
    "editable": false,
    "nbgrader": {
     "cell_type": "markdown",
     "checksum": "babcf4d841b065dc042698237a6e28ba",
     "grade": false,
     "grade_id": "cell-75f28cc756d99013",
     "locked": true,
     "schema_version": 3,
     "solution": false,
     "task": false
    }
   },
   "source": [
    "__(B)__ Implement an algorithm that will implement the $k$ way merge by calling `twoWayMerge` repeatedly as follows:\n",
    "  1. Call `twoWayMerge` on consecutive pairs of lists `twoWayMerge(lists[0], lists[1])`, ... , `twoWayMerge(lists[k-2], lists[k-1])` (assume k is even). \n",
    "  2. Thus, we create a new list of lists of size `k/2`. \n",
    "  3. Repeat steps 1, 2 until we have a single list left."
   ]
  },
  {
   "cell_type": "code",
   "execution_count": null,
   "metadata": {
    "deletable": false,
    "nbgrader": {
     "cell_type": "code",
     "checksum": "39b7843852f69217e9bb5d6a8c0fd552",
     "grade": false,
     "grade_id": "cell-b379be28c3301856",
     "locked": false,
     "schema_version": 3,
     "solution": true,
     "task": false
    }
   },
   "outputs": [],
   "source": [
    "def twoWayMerge(lst1, lst2):\n",
    "    # Implement the two way merge algorithm on \n",
    "    #          two ascending order sorted lists\n",
    "    # return a fresh ascending order sorted list that \n",
    "    #          merges lst1 and lst2\n",
    "    # your code here\n",
    "    assert len(lst1) + len(lst2) > 0\n",
    "    # pattern matching\n",
    "    if len(lst1) == 0:\n",
    "        return lst2\n",
    "    elif len(lst2) == 0:\n",
    "        return lst1\n",
    "    elif lst1[0] <= lst2[0]:\n",
    "        return [lst1[0]] + twoWayMerge(lst1[1:], lst2)\n",
    "    else: # lst1[0] > lst2[0]\n",
    "        return [lst2[0]] + twoWayMerge(lst1, lst2[1:])\n",
    "        \n",
    "# lst1, lst2 = [1,2,3], [4,5,7]\n",
    "# twoWayMerge(lst1, lst2)"
   ]
  },
  {
   "cell_type": "code",
   "execution_count": null,
   "metadata": {
    "deletable": false,
    "editable": false,
    "nbgrader": {
     "cell_type": "code",
     "checksum": "7a334b5ccf7eb92c357fea6e439a53d1",
     "grade": false,
     "grade_id": "cell-1eaca090fa714ddb",
     "locked": true,
     "schema_version": 3,
     "solution": false,
     "task": false
    }
   },
   "outputs": [],
   "source": [
    "# given a list_of_lists as input, \n",
    "#   if list_of_lists has 2 or more lists, \n",
    "#        compute 2 way merge on elements i, i+1 for i = 0, 2, ...\n",
    "#   return new list of lists after the merge\n",
    "#   Handle the case when the list size is odd carefully.\n",
    "def oneStepKWayMerge(list_of_lists):\n",
    "    if (len(list_of_lists) <= 1):\n",
    "        return list_of_lists\n",
    "    ret_list_of_lists = []\n",
    "    k = len(list_of_lists)\n",
    "    for i in range(0, k, 2):\n",
    "        if (i < k-1):\n",
    "            ret_list_of_lists.append(twoWayMerge(list_of_lists[i], list_of_lists[i+1]))\n",
    "        else: \n",
    "            ret_list_of_lists.append(list_of_lists[k-1])\n",
    "    return ret_list_of_lists\n",
    "    "
   ]
  },
  {
   "cell_type": "code",
   "execution_count": null,
   "metadata": {
    "deletable": false,
    "editable": false,
    "nbgrader": {
     "cell_type": "code",
     "checksum": "a29e1bae56bd62e3dae714b5a97244be",
     "grade": false,
     "grade_id": "cell-0637480c11d29450",
     "locked": true,
     "schema_version": 3,
     "solution": false,
     "task": false
    }
   },
   "outputs": [],
   "source": [
    "# Given a list of lists wherein each \n",
    "#    element of list_of_lists is sorted in ascending order,\n",
    "# use the oneStepKWayMerge function repeatedly to merge them.\n",
    "# Return a single merged list that is sorted in ascending order.\n",
    "def kWayMerge(list_of_lists):\n",
    "    k = len(list_of_lists)\n",
    "    if k == 1:\n",
    "        return list_of_lists[0]\n",
    "    else:\n",
    "        new_list_of_lists = oneStepKWayMerge(list_of_lists)\n",
    "        return kWayMerge(new_list_of_lists)"
   ]
  },
  {
   "cell_type": "code",
   "execution_count": null,
   "metadata": {
    "deletable": false,
    "editable": false,
    "nbgrader": {
     "cell_type": "code",
     "checksum": "904605d5e4e8b4a23e46bbd94eb8f240",
     "grade": true,
     "grade_id": "cell-b4cf5a943c483a70",
     "locked": true,
     "points": 15,
     "schema_version": 3,
     "solution": false,
     "task": false
    }
   },
   "outputs": [],
   "source": [
    "# BEGIN TESTS\n",
    "lst1= kWayMerge([[1,2,3], [4,5,7],[-2,0,6],[5]])\n",
    "assert lst1 == [-2, 0, 1, 2, 3, 4, 5, 5, 6, 7], \"Test 1 failed\"\n",
    "\n",
    "lst2 = kWayMerge([[-2, 4, 5 , 8], [0, 1, 2], [-1, 3,6,7]])\n",
    "assert lst2 == [-2, -1, 0, 1, 2, 3, 4, 5, 6, 7, 8], \"Test 2 failed\"\n",
    "\n",
    "lst3 = kWayMerge([[-1, 1, 2, 3, 4, 5]])\n",
    "assert lst3 == [-1, 1, 2, 3, 4, 5], \"Test 3 Failed\"\n",
    "\n",
    "print('All Tests Passed = 15 points')\n",
    "#END TESTS"
   ]
  },
  {
   "cell_type": "markdown",
   "metadata": {
    "deletable": false,
    "editable": false,
    "nbgrader": {
     "cell_type": "markdown",
     "checksum": "b0b79c272a4f9e218364dd83752e42b3",
     "grade": false,
     "grade_id": "cell-160e1272cb274673",
     "locked": true,
     "schema_version": 3,
     "solution": false,
     "task": false
    }
   },
   "source": [
    "### (C, 0 points) \n",
    "\n",
    "What is the overall running time of the algorithm in (B) as a function of $n$ and $k$?\n",
    "\n",
    "__Note that this part is not graded. You are encouraged to answer it for your own understanding.__"
   ]
  },
  {
   "cell_type": "markdown",
   "metadata": {
    "deletable": false,
    "nbgrader": {
     "cell_type": "markdown",
     "checksum": "137c08f04fbae6245697db22f9905503",
     "grade": true,
     "grade_id": "cell-2721212ce41a53de",
     "locked": false,
     "points": 0,
     "schema_version": 3,
     "solution": true,
     "task": false
    }
   },
   "source": [
    "YOUR ANSWER HERE"
   ]
  },
  {
   "cell_type": "markdown",
   "metadata": {
    "deletable": false,
    "editable": false,
    "nbgrader": {
     "cell_type": "markdown",
     "checksum": "6cbb88b137117691b9b8931b172deba3",
     "grade": false,
     "grade_id": "cell-a6b82638778ec261",
     "locked": true,
     "schema_version": 3,
     "solution": false,
     "task": false
    }
   },
   "source": [
    "## Solutions to the Conceptual (Non Coding) Questions\n",
    "\n",
    "### Problem 1B \n",
    "Note that the running time of _findCrossOverIndexHelper_ for inputs $x,y$ of size $n$ is $\\Theta(\\log(n))$. This is because, each iteration of the algorithm halves the search region and the algorithm terminates when the search region has size $2$. This requires at most $\\Theta(\\log(n))$ iterations by the same argument as that presented for binary search in the lecture video.\n",
    "\n",
    "### Problem 2B\n",
    "\n",
    "\n",
    "\n",
    "#### The reason we can conclude $\\text{left} \\leq j < \\text{right}$ is : \n",
    "\n",
    "\n",
    "\n",
    "We note that since $j$ is assumed to be integer cube root of $n$, we have\n",
    "$j^3 \\leq n$ and  $(j+1)^3 > n$. We have $\\text{left} < j+1$ and likewise $\\text{right} > j$. Therefore, $\\text{left} \\leq j < \\text{right}$.\n",
    "\n",
    "### Problem 2C\n",
    "\n",
    "~~~\n",
    "    mid = (left + right)//2\n",
    "    if (cube(mid)  <= n and cube(mid+1) > n):\n",
    "        return mid\n",
    "    elif (cube(mid) > n):\n",
    "        return integerCubeRootHelper(n, left, mid) # Call 1\n",
    "    else:\n",
    "        return integerCubeRootHelper(n, mid, right) # Call 2\n",
    "~~~\n",
    "\n",
    "If Call 1 happens, we note that   `cube(mid) > n`. However, `cube(left) < n` is already true since the value of `left` is unchanged. Thus Call 1 satisfies the invariant.\n",
    "\n",
    "Note that Call 2 will satisfy the property because  `cube(right) > n` and the call will only happen if\n",
    "`cube(mid+1) <= n`. This implies that `cube(mid)< n`. Therefore, we conclude that `Call 2` will satisfy \n",
    "the invariant, as well.\n",
    "\n",
    "\n",
    "### Problem 3A\n",
    "\n",
    "The overall running time is $\\Theta( n \\times ( (k-1) + \\cdots + 1))= \\Theta(n \\times k^2)$\n",
    "\n",
    "### Problem 3C\n",
    "\n",
    "At iteration $i$, the list of lists has size $k/2^{i-1}$ with each element of size $n \\times 2^{i-1}$. The number of merge operations is\n",
    "$k/2^i$ with each merge operation taking $n \\times 2^{i}$ time. The overall work done at the $i^{th}$ iteration remains $k \\times n$. There are $\\Theta(\\log(k))$ iterations in all. Therefore, the overall complexity is $\\Theta(n k \\log(k))$.\n"
   ]
  },
  {
   "cell_type": "markdown",
   "metadata": {
    "deletable": false,
    "editable": false,
    "nbgrader": {
     "cell_type": "markdown",
     "checksum": "8b9f6f4cf6f4d9d95c5ad3aff5627a6d",
     "grade": false,
     "grade_id": "cell-065bb4c945cf6d95",
     "locked": true,
     "schema_version": 3,
     "solution": false,
     "task": false
    }
   },
   "source": [
    "## That's All Folks!"
   ]
  }
 ],
 "metadata": {
  "kernelspec": {
   "display_name": "Python 3",
   "language": "python",
   "name": "python3"
  },
  "language_info": {
   "codemirror_mode": {
    "name": "ipython",
    "version": 3
   },
   "file_extension": ".py",
   "mimetype": "text/x-python",
   "name": "python",
   "nbconvert_exporter": "python",
   "pygments_lexer": "ipython3",
   "version": "3.8.8"
  }
 },
 "nbformat": 4,
 "nbformat_minor": 4
}
